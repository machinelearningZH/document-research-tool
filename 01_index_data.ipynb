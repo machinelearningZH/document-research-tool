{
 "cells": [
  {
   "attachments": {},
   "cell_type": "markdown",
   "metadata": {},
   "source": [
    "# Index Data"
   ]
  },
  {
   "cell_type": "markdown",
   "metadata": {},
   "source": [
    "**Imports**"
   ]
  },
  {
   "cell_type": "code",
   "execution_count": 2,
   "metadata": {},
   "outputs": [
    {
     "name": "stdout",
     "output_type": "stream",
     "text": [
      "INFO: Pandarallel will run on 10 workers.\n",
      "INFO: Pandarallel will use standard multiprocessing data transfer (pipe) to transfer data between the main process and workers.\n"
     ]
    }
   ],
   "source": [
    "import pandas as pd\n",
    "from pandarallel import pandarallel\n",
    "import os\n",
    "from sentence_transformers import SentenceTransformer\n",
    "import weaviate\n",
    "from weaviate.classes.config import Property, DataType\n",
    "import weaviate.classes as wvc\n",
    "import weaviate.classes.config as wc\n",
    "\n",
    "pd.options.mode.chained_assignment = None\n",
    "pd.options.display.max_rows = 500\n",
    "pd.options.display.max_seq_items = 500\n",
    "pandarallel.initialize(progress_bar=True)\n",
    "\n",
    "# Suppress Hugginface warning about tokenizers.\n",
    "os.environ[\"TOKENIZERS_PARALLELISM\"] = \"false\"\n",
    "\n",
    "from utils import chunk_text\n",
    "import tiktoken\n",
    "\n",
    "enc = tiktoken.encoding_for_model(\"gpt-4o\")"
   ]
  },
  {
   "cell_type": "markdown",
   "metadata": {},
   "source": [
    "# Load Data"
   ]
  },
  {
   "cell_type": "code",
   "execution_count": 3,
   "metadata": {},
   "outputs": [
    {
     "name": "stdout",
     "output_type": "stream",
     "text": [
      "<class 'pandas.core.frame.DataFrame'>\n",
      "RangeIndex: 333 entries, 0 to 332\n",
      "Data columns (total 6 columns):\n",
      " #   Column       Non-Null Count  Dtype         \n",
      "---  ------       --------------  -----         \n",
      " 0   identifier   333 non-null    object        \n",
      " 1   date         333 non-null    datetime64[ns]\n",
      " 2   title        333 non-null    object        \n",
      " 3   link         333 non-null    object        \n",
      " 4   text         333 non-null    object        \n",
      " 5   token_count  333 non-null    int64         \n",
      "dtypes: datetime64[ns](1), int64(1), object(4)\n",
      "memory usage: 5.4 MB\n"
     ]
    }
   ],
   "source": [
    "df = pd.read_parquet(\"_data/01_KRP_1994.parq\")\n",
    "df[\"token_count\"] = df[\"text\"].apply(lambda x: len(enc.encode(x)))\n",
    "# For simplicity, we will filter out very long documents.\n",
    "df = df[df[\"token_count\"] <= 5_000]\n",
    "cols = [\"identifier\", \"date\", \"title\", \"ref\", \"text\", \"token_count\"]\n",
    "df = df[cols]\n",
    "df.rename(columns={\"ref\": \"link\"}, inplace=True)\n",
    "df.reset_index(drop=True, inplace=True)\n",
    "df.info(memory_usage=\"deep\")\n",
    "df.to_parquet(\"_data/02_KRP_selec.parq\", index=False)"
   ]
  },
  {
   "attachments": {},
   "cell_type": "markdown",
   "metadata": {},
   "source": [
    "# Chunk Documents"
   ]
  },
  {
   "cell_type": "code",
   "execution_count": 4,
   "metadata": {},
   "outputs": [],
   "source": [
    "df = pd.read_parquet(\"_data/02_KRP_selec.parq\")"
   ]
  },
  {
   "cell_type": "code",
   "execution_count": 5,
   "metadata": {},
   "outputs": [
    {
     "data": {
      "application/vnd.jupyter.widget-view+json": {
       "model_id": "ab05a4d5d4f240b1a9e89b5b6a7f5edf",
       "version_major": 2,
       "version_minor": 0
      },
      "text/plain": [
       "VBox(children=(HBox(children=(IntProgress(value=0, description='0.00%', max=34), Label(value='0 / 34'))), HBox…"
      ]
     },
     "metadata": {},
     "output_type": "display_data"
    },
    {
     "name": "stdout",
     "output_type": "stream",
     "text": [
      "<class 'pandas.core.frame.DataFrame'>\n",
      "RangeIndex: 867 entries, 0 to 866\n",
      "Data columns (total 6 columns):\n",
      " #   Column       Non-Null Count  Dtype         \n",
      "---  ------       --------------  -----         \n",
      " 0   identifier   867 non-null    object        \n",
      " 1   date         867 non-null    datetime64[ns]\n",
      " 2   title        867 non-null    object        \n",
      " 3   link         867 non-null    object        \n",
      " 4   token_count  867 non-null    int64         \n",
      " 5   chunk_text   867 non-null    object        \n",
      "dtypes: datetime64[ns](1), int64(1), object(4)\n",
      "memory usage: 4.2 MB\n"
     ]
    }
   ],
   "source": [
    "# We shuffle the dataframe to make sure that parallel processing is more efficient.\n",
    "results = df.sample(frac=1).parallel_apply(\n",
    "    chunk_text, max_token_count=1000, overlap_tokens=200, axis=1\n",
    ")\n",
    "df_chunks = pd.DataFrame(\n",
    "    [y for x in results.tolist() for y in x], columns=[\"identifier\", \"chunk_text\"]\n",
    ")\n",
    "\n",
    "df_chunks = pd.merge(\n",
    "    df.drop(columns=[\"text\"]), df_chunks, left_on=\"identifier\", right_on=\"identifier\"\n",
    ")\n",
    "\n",
    "df_chunks.info(memory_usage=\"deep\")\n",
    "df_chunks.to_parquet(\"_data/03_KRP_chunks.parq\")"
   ]
  },
  {
   "cell_type": "markdown",
   "metadata": {},
   "source": [
    "# Embed Documents"
   ]
  },
  {
   "cell_type": "code",
   "execution_count": 6,
   "metadata": {},
   "outputs": [],
   "source": [
    "df = pd.read_parquet(\"_data/03_KRP_chunks.parq\")"
   ]
  },
  {
   "cell_type": "code",
   "execution_count": null,
   "metadata": {},
   "outputs": [
    {
     "name": "stdout",
     "output_type": "stream",
     "text": [
      "Max Sequence Length: 8192\n"
     ]
    }
   ],
   "source": [
    "model_path = \"jinaai/jina-embeddings-v2-base-de\"\n",
    "model = SentenceTransformer(\n",
    "    model_path,\n",
    "    trust_remote_code=True,\n",
    "    device=\"mps\",  # Use \"cuda\" for CUDA GPUs, \"mps\" for Mac, \"cpu\" for CPU\n",
    ")\n",
    "print(\"Max Sequence Length:\", model.max_seq_length)\n",
    "model.max_seq_length = 1200"
   ]
  },
  {
   "cell_type": "code",
   "execution_count": null,
   "metadata": {},
   "outputs": [],
   "source": [
    "embeddings = model.encode(\n",
    "    df.chunk_text.values,\n",
    "    batch_size=16,\n",
    "    convert_to_tensor=False,\n",
    "    normalize_embeddings=True,\n",
    "    show_progress_bar=True,\n",
    ")"
   ]
  },
  {
   "cell_type": "code",
   "execution_count": 9,
   "metadata": {},
   "outputs": [],
   "source": [
    "df[\"embeddings\"] = list(embeddings)\n",
    "df.to_parquet(\"_data/04_KRP_embed.parq\")"
   ]
  },
  {
   "cell_type": "markdown",
   "metadata": {},
   "source": [
    "# Index Data"
   ]
  },
  {
   "cell_type": "code",
   "execution_count": 10,
   "metadata": {},
   "outputs": [],
   "source": [
    "df = pd.read_parquet(\"_data/04_KRP_embed.parq\")\n",
    "df.date = pd.to_datetime(df.date, format=\"%Y-%m-%d\")"
   ]
  },
  {
   "cell_type": "code",
   "execution_count": null,
   "metadata": {},
   "outputs": [],
   "source": [
    "try:\n",
    "    client = weaviate.connect_to_embedded(persistence_data_path=\"_weaviate_index/\")\n",
    "    print(\"Connected to embedded\")\n",
    "except:\n",
    "    client = weaviate.connect_to_local(\n",
    "        port=8079,\n",
    "        grpc_port=50050,\n",
    "    )\n",
    "    print(\"Connected to local\")\n",
    "\n",
    "print(client.is_live())\n",
    "print(client.is_ready())\n",
    "\n",
    "# If the collection already exists, delete it.\n",
    "client.collections.delete(\"research_app\")"
   ]
  },
  {
   "cell_type": "code",
   "execution_count": 12,
   "metadata": {},
   "outputs": [
    {
     "name": "stdout",
     "output_type": "stream",
     "text": [
      "True\n",
      "True\n"
     ]
    }
   ],
   "source": [
    "# # Get the meta endpoint description of weaviate.\n",
    "# display(client.get_meta())\n",
    "\n",
    "# Ping Weaviate’s live and ready state.\n",
    "print(client.is_live())\n",
    "print(client.is_ready())"
   ]
  },
  {
   "cell_type": "code",
   "execution_count": null,
   "metadata": {},
   "outputs": [],
   "source": [
    "client.collections.create(\n",
    "    \"research_app\",\n",
    "    vectorizer_config=wc.Configure.Vectorizer.none(),\n",
    "    inverted_index_config=wvc.config.Configure.inverted_index(\n",
    "        bm25_b=0.75,\n",
    "        bm25_k1=1.2,\n",
    "        # stopwords_additions=None,\n",
    "        # stopwords_preset=None,\n",
    "        # stopwords_removals=None,\n",
    "    ),\n",
    "    properties=[\n",
    "        Property(name=\"identifier\", data_type=DataType.TEXT),\n",
    "        Property(name=\"title\", data_type=DataType.TEXT),\n",
    "        Property(name=\"text\", data_type=DataType.TEXT),\n",
    "    ],\n",
    ")"
   ]
  },
  {
   "cell_type": "code",
   "execution_count": 14,
   "metadata": {},
   "outputs": [
    {
     "name": "stdout",
     "output_type": "stream",
     "text": [
      "Research_app\n"
     ]
    }
   ],
   "source": [
    "# List all collections.\n",
    "for v in client.collections.list_all().values():\n",
    "    print(v.name)\n",
    "\n",
    "# # Get detailed information about all collections.\n",
    "# schema = client.collections.list_all(simple=False)\n",
    "# print(schema)"
   ]
  },
  {
   "cell_type": "code",
   "execution_count": null,
   "metadata": {},
   "outputs": [],
   "source": [
    "# # Delete collection\n",
    "# client.collections.delete(\"Research_app\")"
   ]
  },
  {
   "cell_type": "code",
   "execution_count": 15,
   "metadata": {},
   "outputs": [],
   "source": [
    "# Ingest data\n",
    "collection = client.collections.get(\"Research_app\")\n",
    "\n",
    "with collection.batch.dynamic() as batch:\n",
    "    for idx, data in enumerate(df.to_dict(orient=\"records\")):\n",
    "        properties = {\n",
    "            \"identifier\": data[\"identifier\"],\n",
    "            \"title\": data[\"title\"],\n",
    "            \"text\": data[\"chunk_text\"],\n",
    "        }\n",
    "        batch.add_object(properties=properties, vector=data[\"embeddings\"].tolist())"
   ]
  },
  {
   "cell_type": "code",
   "execution_count": 16,
   "metadata": {},
   "outputs": [
    {
     "name": "stdout",
     "output_type": "stream",
     "text": [
      "867\n"
     ]
    }
   ],
   "source": [
    "# Get total count of all items in the collection.\n",
    "collection = client.collections.get(\"Research_app\")\n",
    "response = collection.aggregate.over_all(total_count=True)\n",
    "\n",
    "print(response.total_count)"
   ]
  },
  {
   "cell_type": "markdown",
   "metadata": {},
   "source": [
    "## Test Lexical Search"
   ]
  },
  {
   "cell_type": "code",
   "execution_count": 17,
   "metadata": {},
   "outputs": [
    {
     "name": "stdout",
     "output_type": "stream",
     "text": [
      "Einzelinitiative Odile Wild, Zürich, vom 9. Juni 1994 betreffend Gleichstellung von Mann und Frau im Steuergesetz KR-Nr. 193/1994\n",
      "Dringliche Interpellation Christian Bretscher, Birmensdorf, und Franziska Troesch-Schnyder, Zollikon, vom 28. März 1994 betreffend Schutz der öffentlichen Sicherheit im Zusammenhang mit bedingten Entlassungen und Urlaubsgewährungen schriftlich begründet KR-Nr. 98/1994, RRB-Nr. 1140/20. 4. 1994\n",
      "Einzelinitiative Julia Anderegg, Zürich, vom 30. August 1993 betreffend Änderung des Tierschutzgesetzes KR-Nr. 251/1993\n",
      "Einzelinitiative Roland Bachmann, Horgen, vom 3. Juni 1992 betreffend Änderung des Gesetzes über das Vorschlagsrecht des Volkes Anhebung des Quorums für Einzelinitiativen Bericht und Antrag des Regierungsrates vom 15. Dezember 1993 und geänderter Antrag der Kommission vom 27. Januar 1994 3358a\n",
      "Mitteilungen\n",
      "Postulat Franziska Frey-Wettstein, Zürich, und Mitunterzeichnende vom 21. September 1992 betreffend kontrollierte Opiatabgabe schriftlich begründet KR-Nr. 265/1992, Entgegennahme, Diskussion\n",
      "Mitteilungen\n",
      "Postulat Franz Cahannes, Zürich, vom 6. September 1993 betreffend einen Rahmenkredit von 60 Millionen Franken für die energetische Sanierung kantonaler Liegenschaften schriftlich begründet . KR-Nr. 247/1993, RRB-Nr. 62/5.1.1994 Stellungnahme\n",
      "Mitteilungen\n",
      "Einzelinitiative Dr. Bernhard Wehrli, Feldbach, betreffend Änderung des PBG Bericht und Antrag des Regierungsrates vom 19. August 1992 und gleichlautender Antrag der Kommission vom 2. Dezember 1993 3249\n"
     ]
    }
   ],
   "source": [
    "collection = client.collections.get(\"Research_app\")\n",
    "response = collection.query.bm25(\n",
    "    query=\"Was ist zu Steuerreformen entschieden worden?\",\n",
    "    # query_properties=[\"title\"], # Define which fields to search over.\n",
    "    offset=0,\n",
    "    limit=100,\n",
    "    auto_limit=4,\n",
    "    return_metadata=wvc.query.MetadataQuery(score=True, distance=True, certainty=True),\n",
    "    # filters=wvc.query.Filter.by_property(\"year\").equal(2012),\n",
    "    #  filters=wvc.query.Filter.by_property(\"year\").less_than(2012),\n",
    "    #  auto_limit=True,\n",
    ")\n",
    "\n",
    "seen = []\n",
    "final_results = []\n",
    "\n",
    "for item in response.objects:\n",
    "    if item.properties[\"identifier\"] in seen:\n",
    "        continue\n",
    "    final_results.append(item.properties[\"title\"])\n",
    "    seen.append(item.properties[\"identifier\"])\n",
    "for elem in final_results:\n",
    "    print(elem)"
   ]
  },
  {
   "cell_type": "markdown",
   "metadata": {},
   "source": [
    "## Test Hybrid Search"
   ]
  },
  {
   "cell_type": "code",
   "execution_count": 18,
   "metadata": {},
   "outputs": [],
   "source": [
    "model_path = \"jinaai/jina-embeddings-v2-base-de\"\n",
    "model = SentenceTransformer(\n",
    "    model_path,\n",
    "    trust_remote_code=True,\n",
    "    device=\"mps\",  # Use \"cuda\" for GPU, \"mps\" for Mac, \"cpu\" for CPU\n",
    ")\n",
    "model.max_seq_length = 1200\n",
    "\n",
    "\n",
    "def embed_query(query):\n",
    "    return model.encode(query, convert_to_tensor=False, normalize_embeddings=True)"
   ]
  },
  {
   "cell_type": "code",
   "execution_count": 19,
   "metadata": {},
   "outputs": [
    {
     "name": "stdout",
     "output_type": "stream",
     "text": [
      "Verhandlungsgegenstände Geschäftsordnung\n",
      "Einzelinitiative Odile Wild, Zürich, vom 9. Juni 1994 betreffend Gleichstellung von Mann und Frau im Steuergesetz KR-Nr. 193/1994\n",
      "Einzelinitiative Hans Heusser, Zürich, vom 26. April 1994 betreffend Änderung von Paragraph 31 des Steuergesetzes KR-Nr. 132/1994\n",
      "Verordnung über die Quellensteuer für ausländische Arbeitnehmer Quellensteuerverordnung Antrag des Regierungsrates vom 2. Februar 1994 und gleichlautender Antrag der Kommission vom 5. Mai 1994 3374 Verordnung über die Quellensteuer für natürliche und juristische Personen ohne steuerrechtlichen Wohnsitz oder Aufenthalt in der Schweiz Quellensteuerverordnung Antrag des Regierungsrates vom 2. Februar 1994 und gleichlautender Antrag der Kommission vom 5. Mai 1994 3375\n",
      "Statuten der Versicherungskasse für das Staatspersonal Änderung Antrag des Regierungsrates vom 24. November 1993 und gleichlautender Antrag der Kommission vom 23. Juni 1994 3352\n",
      "Einzelinitiative Beat Müller, Zürich, vom 5. Juli 1993 betreffend Änderung des Steuergesetzes KR-Nr. 227/1993\n",
      "Parlamentarische Initiative Thomas Büchi, Zürich, vom 17. Januar 1994 betreffend Änderung des Erbschafts- und Schenkungssteuergesetzes schriftlich begründet KR-Nr. 26/1994\n",
      "Mitteilungen\n",
      "Erwahrung der Ergebnisse der kantonalen Volksabstimmung vom 20. Februar 1994 Antrag des Büros des Kantonsrates vom 3. März 1994 KR-Nr. 58/1994\n",
      "Mitteilungen\n",
      "Parlamentarische Initiative Bruno Zuppiger und Mitunterzeichnende vom 1. November 1993 betreffend Beseitigung der steuerlichen Doppelbelastung von Dividendenausschüttungen schriftlich begründet KR-Nr. 303/1993\n",
      "Mitteilungen\n",
      "Motion Georg Züblin, Niederhasli, und Mitunterzeichnende vom 26. April 1993 betreffend Änderung des Grundsteuerrechts schriftlich begründet . KR-Nr. 106/1993, RRB-Nr. 1837/16.6.1993 Stellungnahme\n",
      "Motion Georg Schellenberg, Zell, vom 13. Dezember 1993 betreffend Einführung einer neuen Verwaltungsführung schriftlich begründet KR-Nr. 372/1993, Entgegennahme als Postulat\n"
     ]
    }
   ],
   "source": [
    "query = \"Was ist zu Steuerreformen entschieden worden?\"\n",
    "query_embedding = embed_query(query)\n",
    "\n",
    "collection = client.collections.get(\"Research_app\")\n",
    "response = collection.query.hybrid(\n",
    "    query=query,\n",
    "    vector=list(query_embedding),\n",
    "    limit=20,\n",
    "    auto_limit=10,\n",
    "    alpha=0.7,\n",
    "    fusion_type=wvc.query.HybridFusion.RELATIVE_SCORE,\n",
    ")\n",
    "\n",
    "seen = []\n",
    "final_results = []\n",
    "\n",
    "for item in response.objects:\n",
    "    if item.properties[\"identifier\"] in seen:\n",
    "        continue\n",
    "    final_results.append(item.properties[\"title\"])\n",
    "    seen.append(item.properties[\"identifier\"])\n",
    "\n",
    "for elem in final_results:\n",
    "    print(elem)"
   ]
  }
 ],
 "metadata": {
  "kernelspec": {
   "display_name": ".venv",
   "language": "python",
   "name": "python3"
  },
  "language_info": {
   "codemirror_mode": {
    "name": "ipython",
    "version": 3
   },
   "file_extension": ".py",
   "mimetype": "text/x-python",
   "name": "python",
   "nbconvert_exporter": "python",
   "pygments_lexer": "ipython3",
   "version": "3.11.12"
  }
 },
 "nbformat": 4,
 "nbformat_minor": 4
}
